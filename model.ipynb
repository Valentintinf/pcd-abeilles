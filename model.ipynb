{
 "cells": [
  {
   "cell_type": "code",
   "execution_count": 5,
   "metadata": {},
   "outputs": [],
   "source": [
    "import pandas as pd\n",
    "import numpy as np\n",
    "import seaborn as sns\n",
    "import matplotlib\n",
    "import matplotlib.pyplot as plt\n",
    "import imageio\n",
    "import pickle\n",
    "\n",
    "from skimage.transform import rescale, resize, rotate\n",
    "from skimage.color import rgb2gray\n",
    "from sklearn.metrics import confusion_matrix, auc, accuracy_score\n",
    "from sklearn.model_selection import train_test_split\n",
    "\n",
    "from tensorflow.keras.models import Sequential # type: ignore\n",
    "from tensorflow.keras.layers import Dense, Dropout, Activation, Flatten, BatchNormalization # type: ignore\n",
    "from tensorflow.keras.layers import Conv2D, MaxPooling2D # type: ignore\n",
    "from tensorflow.keras.preprocessing.image import ImageDataGenerator # type: ignore\n",
    "from tensorflow.keras.optimizers import Adam, RMSprop, SGD # type: ignore\n",
    "from tensorflow.keras import callbacks # type: ignore\n",
    "from tensorflow.keras.models import load_model # type: ignore\n",
    "from tensorflow.keras import models # type: ignore\n",
    "\n",
    "from keras import utils\n",
    "\n",
    "import warnings\n",
    "warnings.filterwarnings(\"ignore\")\n",
    "\n",
    "random_state = 42\n",
    "\n",
    "# For reproducibility\n",
    "np.random.seed(random_state)"
   ]
  }
 ],
 "metadata": {
  "kernelspec": {
   "display_name": "venv",
   "language": "python",
   "name": "python3"
  },
  "language_info": {
   "codemirror_mode": {
    "name": "ipython",
    "version": 3
   },
   "file_extension": ".py",
   "mimetype": "text/x-python",
   "name": "python",
   "nbconvert_exporter": "python",
   "pygments_lexer": "ipython3",
   "version": "3.12.4"
  }
 },
 "nbformat": 4,
 "nbformat_minor": 2
}
